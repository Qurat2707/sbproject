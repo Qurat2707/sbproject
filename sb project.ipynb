{
 "cells": [
  {
   "cell_type": "code",
   "execution_count": 1,
   "metadata": {},
   "outputs": [
    {
     "name": "stderr",
     "output_type": "stream",
     "text": [
      "Using TensorFlow backend.\n"
     ]
    }
   ],
   "source": [
    "from keras.models import Sequential\n",
    "from keras.layers import Dense\n",
    "from keras.layers import Convolution2D\n",
    "from keras.layers import MaxPooling2D\n",
    "from keras.layers import Flatten"
   ]
  },
  {
   "cell_type": "code",
   "execution_count": 2,
   "metadata": {},
   "outputs": [],
   "source": [
    "from keras.preprocessing.image import ImageDataGenerator\n",
    "train_datagen=ImageDataGenerator(rescale=1./255,shear_range=0.2,zoom_range=0.2,horizontal_flip=True)\n",
    "test_datagen=ImageDataGenerator(rescale=1./25)"
   ]
  },
  {
   "cell_type": "code",
   "execution_count": 3,
   "metadata": {},
   "outputs": [
    {
     "name": "stdout",
     "output_type": "stream",
     "text": [
      "Found 2062 images belonging to 10 classes.\n",
      "Found 330 images belonging to 10 classes.\n"
     ]
    }
   ],
   "source": [
    "x_train=train_datagen.flow_from_directory(r\"E:\\smartbridge-python-basics\\dataset\\Train\",target_size=(64,64),batch_size=32)\n",
    "x_test=test_datagen.flow_from_directory(r\"E:\\smartbridge-python-basics\\dataset\\Test\",target_size=(64,64),batch_size=32)"
   ]
  },
  {
   "cell_type": "code",
   "execution_count": 4,
   "metadata": {},
   "outputs": [
    {
     "data": {
      "text/plain": [
       "{'0': 0,\n",
       " '1': 1,\n",
       " '2': 2,\n",
       " '3': 3,\n",
       " '4': 4,\n",
       " '5': 5,\n",
       " '6': 6,\n",
       " '7': 7,\n",
       " '8': 8,\n",
       " '9': 9}"
      ]
     },
     "execution_count": 4,
     "metadata": {},
     "output_type": "execute_result"
    }
   ],
   "source": [
    "x_train.class_indices"
   ]
  },
  {
   "cell_type": "code",
   "execution_count": 5,
   "metadata": {},
   "outputs": [
    {
     "name": "stdout",
     "output_type": "stream",
     "text": [
      "WARNING:tensorflow:From C:\\Users\\Dell\\Anaconda3\\lib\\site-packages\\keras\\backend\\tensorflow_backend.py:74: The name tf.get_default_graph is deprecated. Please use tf.compat.v1.get_default_graph instead.\n",
      "\n"
     ]
    }
   ],
   "source": [
    "model=Sequential()"
   ]
  },
  {
   "cell_type": "code",
   "execution_count": 6,
   "metadata": {},
   "outputs": [
    {
     "name": "stdout",
     "output_type": "stream",
     "text": [
      "WARNING:tensorflow:From C:\\Users\\Dell\\Anaconda3\\lib\\site-packages\\keras\\backend\\tensorflow_backend.py:517: The name tf.placeholder is deprecated. Please use tf.compat.v1.placeholder instead.\n",
      "\n",
      "WARNING:tensorflow:From C:\\Users\\Dell\\Anaconda3\\lib\\site-packages\\keras\\backend\\tensorflow_backend.py:4138: The name tf.random_uniform is deprecated. Please use tf.random.uniform instead.\n",
      "\n"
     ]
    }
   ],
   "source": [
    "model.add(Convolution2D(32,(3,3),input_shape = (64,64,3),activation=\"relu\"))"
   ]
  },
  {
   "cell_type": "code",
   "execution_count": 7,
   "metadata": {},
   "outputs": [
    {
     "name": "stdout",
     "output_type": "stream",
     "text": [
      "WARNING:tensorflow:From C:\\Users\\Dell\\Anaconda3\\lib\\site-packages\\keras\\backend\\tensorflow_backend.py:3976: The name tf.nn.max_pool is deprecated. Please use tf.nn.max_pool2d instead.\n",
      "\n"
     ]
    }
   ],
   "source": [
    "model.add(MaxPooling2D(pool_size=(2,2)))"
   ]
  },
  {
   "cell_type": "code",
   "execution_count": 8,
   "metadata": {},
   "outputs": [],
   "source": [
    "model.add( Flatten())#input layer"
   ]
  },
  {
   "cell_type": "code",
   "execution_count": 9,
   "metadata": {},
   "outputs": [
    {
     "name": "stderr",
     "output_type": "stream",
     "text": [
      "C:\\Users\\Dell\\Anaconda3\\lib\\site-packages\\ipykernel_launcher.py:1: UserWarning: Update your `Dense` call to the Keras 2 API: `Dense(units=128, activation=\"relu\", kernel_initializer=\"uniform\")`\n",
      "  \"\"\"Entry point for launching an IPython kernel.\n"
     ]
    }
   ],
   "source": [
    "model.add(Dense(units=128,init=\"uniform\",activation=\"relu\"))"
   ]
  },
  {
   "cell_type": "code",
   "execution_count": 10,
   "metadata": {},
   "outputs": [
    {
     "name": "stderr",
     "output_type": "stream",
     "text": [
      "C:\\Users\\Dell\\Anaconda3\\lib\\site-packages\\ipykernel_launcher.py:1: UserWarning: Update your `Dense` call to the Keras 2 API: `Dense(units=32, activation=\"relu\", kernel_initializer=\"uniform\")`\n",
      "  \"\"\"Entry point for launching an IPython kernel.\n"
     ]
    }
   ],
   "source": [
    "model.add(Dense(units=32,init=\"uniform\",activation=\"relu\"))"
   ]
  },
  {
   "cell_type": "code",
   "execution_count": 11,
   "metadata": {},
   "outputs": [
    {
     "name": "stderr",
     "output_type": "stream",
     "text": [
      "C:\\Users\\Dell\\Anaconda3\\lib\\site-packages\\ipykernel_launcher.py:1: UserWarning: Update your `Dense` call to the Keras 2 API: `Dense(units=10, activation=\"softmax\", kernel_initializer=\"uniform\")`\n",
      "  \"\"\"Entry point for launching an IPython kernel.\n"
     ]
    }
   ],
   "source": [
    "model.add(Dense(units=10,init=\"uniform\",activation=\"softmax\"))"
   ]
  },
  {
   "cell_type": "code",
   "execution_count": 15,
   "metadata": {},
   "outputs": [],
   "source": [
    "model.compile(loss=\"categorical_crossentropy\",optimizer=\"adam\",metrics=[\"accuracy\"])"
   ]
  },
  {
   "cell_type": "code",
   "execution_count": 13,
   "metadata": {},
   "outputs": [
    {
     "name": "stdout",
     "output_type": "stream",
     "text": [
      "WARNING:tensorflow:From C:\\Users\\Dell\\Anaconda3\\lib\\site-packages\\tensorflow\\python\\ops\\math_grad.py:1250: add_dispatch_support.<locals>.wrapper (from tensorflow.python.ops.array_ops) is deprecated and will be removed in a future version.\n",
      "Instructions for updating:\n",
      "Use tf.where in 2.0, which has the same broadcast rule as np.where\n",
      "WARNING:tensorflow:From C:\\Users\\Dell\\Anaconda3\\lib\\site-packages\\keras\\backend\\tensorflow_backend.py:986: The name tf.assign_add is deprecated. Please use tf.compat.v1.assign_add instead.\n",
      "\n",
      "Epoch 1/100\n",
      "49/49 [==============================] - 29s 584ms/step - loss: 2.3082 - acc: 0.0950 - val_loss: 2.2997 - val_acc: 0.1068\n",
      "Epoch 2/100\n",
      "49/49 [==============================] - 25s 502ms/step - loss: 2.2967 - acc: 0.1231 - val_loss: 2.2047 - val_acc: 0.1409\n",
      "Epoch 3/100\n",
      "49/49 [==============================] - 25s 509ms/step - loss: 2.1783 - acc: 0.1864 - val_loss: 3.6555 - val_acc: 0.2349\n",
      "Epoch 4/100\n",
      "49/49 [==============================] - 25s 514ms/step - loss: 1.8266 - acc: 0.3219 - val_loss: 4.9494 - val_acc: 0.3020\n",
      "Epoch 5/100\n",
      "49/49 [==============================] - 26s 523ms/step - loss: 1.5347 - acc: 0.4401 - val_loss: 4.2835 - val_acc: 0.4111\n",
      "Epoch 6/100\n",
      "49/49 [==============================] - 25s 520ms/step - loss: 1.3274 - acc: 0.5400 - val_loss: 3.4261 - val_acc: 0.4676\n",
      "Epoch 7/100\n",
      "49/49 [==============================] - 25s 515ms/step - loss: 1.1637 - acc: 0.5931 - val_loss: 2.7180 - val_acc: 0.5638\n",
      "Epoch 8/100\n",
      "49/49 [==============================] - 26s 532ms/step - loss: 1.0385 - acc: 0.6373 - val_loss: 4.2292 - val_acc: 0.4530\n",
      "Epoch 9/100\n",
      "49/49 [==============================] - 25s 513ms/step - loss: 0.9173 - acc: 0.6920 - val_loss: 3.5881 - val_acc: 0.4966\n",
      "Epoch 10/100\n",
      "49/49 [==============================] - 25s 514ms/step - loss: 0.7899 - acc: 0.7479 - val_loss: 3.1039 - val_acc: 0.5856\n",
      "Epoch 11/100\n",
      "49/49 [==============================] - 25s 515ms/step - loss: 0.8599 - acc: 0.7142 - val_loss: 4.4010 - val_acc: 0.5201\n",
      "Epoch 12/100\n",
      "49/49 [==============================] - 25s 513ms/step - loss: 0.7374 - acc: 0.7509 - val_loss: 3.8360 - val_acc: 0.5502\n",
      "Epoch 13/100\n",
      "49/49 [==============================] - 25s 518ms/step - loss: 0.6939 - acc: 0.7589 - val_loss: 4.0014 - val_acc: 0.5520\n",
      "Epoch 14/100\n",
      "49/49 [==============================] - 25s 502ms/step - loss: 0.6826 - acc: 0.7692 - val_loss: 2.7663 - val_acc: 0.6779\n",
      "Epoch 15/100\n",
      "49/49 [==============================] - 25s 516ms/step - loss: 0.6150 - acc: 0.8033 - val_loss: 5.4785 - val_acc: 0.5067\n",
      "Epoch 16/100\n",
      "49/49 [==============================] - 26s 524ms/step - loss: 0.5987 - acc: 0.8062 - val_loss: 5.0580 - val_acc: 0.5050\n",
      "Epoch 17/100\n",
      "49/49 [==============================] - 26s 525ms/step - loss: 0.6121 - acc: 0.8068 - val_loss: 3.1388 - val_acc: 0.6602\n",
      "Epoch 18/100\n",
      "49/49 [==============================] - 25s 514ms/step - loss: 0.5420 - acc: 0.8274 - val_loss: 2.5827 - val_acc: 0.6779\n",
      "Epoch 19/100\n",
      "49/49 [==============================] - 25s 503ms/step - loss: 0.5561 - acc: 0.8219 - val_loss: 3.2664 - val_acc: 0.6376\n",
      "Epoch 20/100\n",
      "49/49 [==============================] - 25s 512ms/step - loss: 0.5273 - acc: 0.8250 - val_loss: 3.9283 - val_acc: 0.6208\n",
      "Epoch 21/100\n",
      "49/49 [==============================] - 25s 514ms/step - loss: 0.5264 - acc: 0.8291 - val_loss: 2.8955 - val_acc: 0.6913\n",
      "Epoch 22/100\n",
      "49/49 [==============================] - 25s 506ms/step - loss: 0.5163 - acc: 0.8284 - val_loss: 3.5019 - val_acc: 0.6309\n",
      "Epoch 23/100\n",
      "49/49 [==============================] - 25s 516ms/step - loss: 0.4818 - acc: 0.8518 - val_loss: 3.4540 - val_acc: 0.6521\n",
      "Epoch 24/100\n",
      "49/49 [==============================] - 25s 515ms/step - loss: 0.4572 - acc: 0.8553 - val_loss: 3.0721 - val_acc: 0.7013\n",
      "Epoch 25/100\n",
      "49/49 [==============================] - 25s 512ms/step - loss: 0.4641 - acc: 0.8444 - val_loss: 3.5283 - val_acc: 0.6309\n",
      "Epoch 26/100\n",
      "49/49 [==============================] - 25s 510ms/step - loss: 0.4704 - acc: 0.8391 - val_loss: 2.6829 - val_acc: 0.7282\n",
      "Epoch 27/100\n",
      "49/49 [==============================] - 25s 511ms/step - loss: 0.4753 - acc: 0.8472 - val_loss: 3.9978 - val_acc: 0.6191\n",
      "Epoch 28/100\n",
      "49/49 [==============================] - 25s 508ms/step - loss: 0.4527 - acc: 0.8499 - val_loss: 2.3160 - val_acc: 0.7168\n",
      "Epoch 29/100\n",
      "49/49 [==============================] - 25s 511ms/step - loss: 0.4249 - acc: 0.8648 - val_loss: 5.8493 - val_acc: 0.4950\n",
      "Epoch 30/100\n",
      "49/49 [==============================] - 26s 537ms/step - loss: 0.3983 - acc: 0.8716 - val_loss: 2.8854 - val_acc: 0.7030\n",
      "Epoch 31/100\n",
      "49/49 [==============================] - 25s 514ms/step - loss: 0.3940 - acc: 0.8764 - val_loss: 3.0640 - val_acc: 0.6946\n",
      "Epoch 32/100\n",
      "49/49 [==============================] - 25s 514ms/step - loss: 0.3685 - acc: 0.8734 - val_loss: 3.7092 - val_acc: 0.6594\n",
      "Epoch 33/100\n",
      "49/49 [==============================] - 25s 515ms/step - loss: 0.3982 - acc: 0.8705 - val_loss: 2.5822 - val_acc: 0.7215\n",
      "Epoch 34/100\n",
      "49/49 [==============================] - 25s 514ms/step - loss: 0.3493 - acc: 0.8876 - val_loss: 4.4931 - val_acc: 0.6084\n",
      "Epoch 35/100\n",
      "49/49 [==============================] - 25s 510ms/step - loss: 0.3527 - acc: 0.8884 - val_loss: 2.3967 - val_acc: 0.7148\n",
      "Epoch 36/100\n",
      "49/49 [==============================] - 25s 504ms/step - loss: 0.3562 - acc: 0.8839 - val_loss: 2.3846 - val_acc: 0.7534\n",
      "Epoch 37/100\n",
      "49/49 [==============================] - 25s 519ms/step - loss: 0.3482 - acc: 0.8897 - val_loss: 3.1905 - val_acc: 0.6896\n",
      "Epoch 38/100\n",
      "49/49 [==============================] - 25s 506ms/step - loss: 0.3637 - acc: 0.8908 - val_loss: 2.0466 - val_acc: 0.7768\n",
      "Epoch 39/100\n",
      "49/49 [==============================] - 25s 513ms/step - loss: 0.3328 - acc: 0.8821 - val_loss: 3.8692 - val_acc: 0.6375\n",
      "Epoch 40/100\n",
      "49/49 [==============================] - 25s 500ms/step - loss: 0.3141 - acc: 0.9003 - val_loss: 1.8180 - val_acc: 0.7987\n",
      "Epoch 41/100\n",
      "49/49 [==============================] - 25s 514ms/step - loss: 0.3117 - acc: 0.8935 - val_loss: 2.6916 - val_acc: 0.7265\n",
      "Epoch 42/100\n",
      "49/49 [==============================] - 26s 538ms/step - loss: 0.3078 - acc: 0.9041 - val_loss: 2.2567 - val_acc: 0.7500\n",
      "Epoch 43/100\n",
      "49/49 [==============================] - 25s 515ms/step - loss: 0.3212 - acc: 0.8901 - val_loss: 3.5210 - val_acc: 0.6930\n",
      "Epoch 44/100\n",
      "49/49 [==============================] - 25s 516ms/step - loss: 0.2753 - acc: 0.9139 - val_loss: 2.0518 - val_acc: 0.7601\n",
      "Epoch 45/100\n",
      "49/49 [==============================] - 25s 515ms/step - loss: 0.2688 - acc: 0.9247 - val_loss: 2.3934 - val_acc: 0.7589\n",
      "Epoch 46/100\n",
      "49/49 [==============================] - 25s 515ms/step - loss: 0.2613 - acc: 0.9069 - val_loss: 2.2091 - val_acc: 0.7685\n",
      "Epoch 47/100\n",
      "49/49 [==============================] - 25s 512ms/step - loss: 0.2821 - acc: 0.9075 - val_loss: 1.8606 - val_acc: 0.8121\n",
      "Epoch 48/100\n",
      "49/49 [==============================] - 25s 511ms/step - loss: 0.2709 - acc: 0.9073 - val_loss: 2.0251 - val_acc: 0.7903\n",
      "Epoch 49/100\n",
      "49/49 [==============================] - 25s 511ms/step - loss: 0.2441 - acc: 0.9222 - val_loss: 2.4011 - val_acc: 0.7752\n",
      "Epoch 50/100\n",
      "49/49 [==============================] - 25s 519ms/step - loss: 0.2751 - acc: 0.9051 - val_loss: 2.3072 - val_acc: 0.7638\n",
      "Epoch 51/100\n",
      "49/49 [==============================] - 27s 542ms/step - loss: 0.2911 - acc: 0.9075 - val_loss: 3.4137 - val_acc: 0.6913\n",
      "Epoch 52/100\n",
      "49/49 [==============================] - 25s 513ms/step - loss: 0.2778 - acc: 0.9046 - val_loss: 1.6756 - val_acc: 0.8154\n",
      "Epoch 53/100\n",
      "49/49 [==============================] - 26s 522ms/step - loss: 0.2525 - acc: 0.9209 - val_loss: 3.0184 - val_acc: 0.7232\n",
      "Epoch 54/100\n",
      "49/49 [==============================] - 26s 529ms/step - loss: 0.2360 - acc: 0.9273 - val_loss: 2.8393 - val_acc: 0.7483\n",
      "Epoch 55/100\n",
      "49/49 [==============================] - 25s 513ms/step - loss: 0.2596 - acc: 0.9145 - val_loss: 2.8020 - val_acc: 0.7433\n",
      "Epoch 56/100\n",
      "49/49 [==============================] - 26s 531ms/step - loss: 0.2504 - acc: 0.9239 - val_loss: 1.9219 - val_acc: 0.7718\n",
      "Epoch 57/100\n",
      "49/49 [==============================] - 25s 519ms/step - loss: 0.2501 - acc: 0.9107 - val_loss: 3.1130 - val_acc: 0.7131\n"
     ]
    },
    {
     "name": "stdout",
     "output_type": "stream",
     "text": [
      "Epoch 58/100\n",
      "49/49 [==============================] - 26s 525ms/step - loss: 0.2436 - acc: 0.9297 - val_loss: 2.2884 - val_acc: 0.7500\n",
      "Epoch 59/100\n",
      "49/49 [==============================] - 25s 507ms/step - loss: 0.2356 - acc: 0.9254 - val_loss: 1.9730 - val_acc: 0.8138\n",
      "Epoch 60/100\n",
      "49/49 [==============================] - 25s 507ms/step - loss: 0.2269 - acc: 0.9247 - val_loss: 2.0825 - val_acc: 0.7936\n",
      "Epoch 61/100\n",
      "49/49 [==============================] - 25s 515ms/step - loss: 0.2187 - acc: 0.9260 - val_loss: 3.3181 - val_acc: 0.6958\n",
      "Epoch 62/100\n",
      "49/49 [==============================] - 25s 505ms/step - loss: 0.2115 - acc: 0.9298 - val_loss: 2.8266 - val_acc: 0.7517\n",
      "Epoch 63/100\n",
      "49/49 [==============================] - 25s 506ms/step - loss: 0.2189 - acc: 0.9215 - val_loss: 1.6745 - val_acc: 0.8154\n",
      "Epoch 64/100\n",
      "49/49 [==============================] - 26s 522ms/step - loss: 0.2013 - acc: 0.9254 - val_loss: 2.5017 - val_acc: 0.7534\n",
      "Epoch 65/100\n",
      "49/49 [==============================] - 25s 514ms/step - loss: 0.2204 - acc: 0.9252 - val_loss: 2.5760 - val_acc: 0.7584\n",
      "Epoch 66/100\n",
      "49/49 [==============================] - 25s 520ms/step - loss: 0.2175 - acc: 0.9254 - val_loss: 1.9142 - val_acc: 0.8205\n",
      "Epoch 67/100\n",
      "49/49 [==============================] - 25s 504ms/step - loss: 0.1808 - acc: 0.9464 - val_loss: 2.7834 - val_acc: 0.7573\n",
      "Epoch 68/100\n",
      "49/49 [==============================] - 25s 511ms/step - loss: 0.1965 - acc: 0.9343 - val_loss: 1.7612 - val_acc: 0.8205\n",
      "Epoch 69/100\n",
      "49/49 [==============================] - 25s 514ms/step - loss: 0.1858 - acc: 0.9413 - val_loss: 1.8534 - val_acc: 0.8037\n",
      "Epoch 70/100\n",
      "49/49 [==============================] - 26s 523ms/step - loss: 0.1888 - acc: 0.9388 - val_loss: 2.0690 - val_acc: 0.7987\n",
      "Epoch 71/100\n",
      "49/49 [==============================] - 25s 506ms/step - loss: 0.1996 - acc: 0.9316 - val_loss: 2.2543 - val_acc: 0.7953\n",
      "Epoch 72/100\n",
      "49/49 [==============================] - 26s 523ms/step - loss: 0.1748 - acc: 0.9439 - val_loss: 1.3257 - val_acc: 0.8544\n",
      "Epoch 73/100\n",
      "49/49 [==============================] - 25s 502ms/step - loss: 0.2141 - acc: 0.9303 - val_loss: 2.1802 - val_acc: 0.7953\n",
      "Epoch 74/100\n",
      "49/49 [==============================] - 25s 520ms/step - loss: 0.2017 - acc: 0.9369 - val_loss: 1.7174 - val_acc: 0.8272\n",
      "Epoch 75/100\n",
      "49/49 [==============================] - 25s 515ms/step - loss: 0.1808 - acc: 0.9332 - val_loss: 2.2613 - val_acc: 0.7869\n",
      "Epoch 76/100\n",
      "49/49 [==============================] - 25s 508ms/step - loss: 0.1575 - acc: 0.9483 - val_loss: 3.3956 - val_acc: 0.7282\n",
      "Epoch 77/100\n",
      "49/49 [==============================] - 25s 500ms/step - loss: 0.2026 - acc: 0.9330 - val_loss: 1.2242 - val_acc: 0.8624\n",
      "Epoch 78/100\n",
      "49/49 [==============================] - 28s 579ms/step - loss: 0.1467 - acc: 0.9503 - val_loss: 1.1435 - val_acc: 0.8706\n",
      "Epoch 79/100\n",
      "49/49 [==============================] - 26s 530ms/step - loss: 0.1691 - acc: 0.9515 - val_loss: 1.6031 - val_acc: 0.8305\n",
      "Epoch 80/100\n",
      "49/49 [==============================] - 25s 516ms/step - loss: 0.1611 - acc: 0.9478 - val_loss: 1.7327 - val_acc: 0.8356\n",
      "Epoch 81/100\n",
      "49/49 [==============================] - 25s 505ms/step - loss: 0.1397 - acc: 0.9573 - val_loss: 2.4446 - val_acc: 0.7836\n",
      "Epoch 82/100\n",
      "49/49 [==============================] - 25s 506ms/step - loss: 0.1283 - acc: 0.9579 - val_loss: 2.3752 - val_acc: 0.7987\n",
      "Epoch 83/100\n",
      "49/49 [==============================] - 26s 540ms/step - loss: 0.1529 - acc: 0.9499 - val_loss: 1.6841 - val_acc: 0.8511\n",
      "Epoch 84/100\n",
      "49/49 [==============================] - 26s 522ms/step - loss: 0.1276 - acc: 0.9649 - val_loss: 2.0131 - val_acc: 0.7903\n",
      "Epoch 85/100\n",
      "49/49 [==============================] - 25s 515ms/step - loss: 0.1870 - acc: 0.9316 - val_loss: 2.4824 - val_acc: 0.7718\n",
      "Epoch 86/100\n",
      "49/49 [==============================] - 25s 519ms/step - loss: 0.1792 - acc: 0.9439 - val_loss: 1.7030 - val_acc: 0.8356\n",
      "Epoch 87/100\n",
      "49/49 [==============================] - 25s 512ms/step - loss: 0.1302 - acc: 0.9552 - val_loss: 1.4169 - val_acc: 0.8641\n",
      "Epoch 88/100\n",
      "49/49 [==============================] - 25s 507ms/step - loss: 0.1330 - acc: 0.9558 - val_loss: 1.6205 - val_acc: 0.8423\n",
      "Epoch 89/100\n",
      "49/49 [==============================] - 26s 529ms/step - loss: 0.1507 - acc: 0.9534 - val_loss: 1.1810 - val_acc: 0.8851\n",
      "Epoch 90/100\n",
      "49/49 [==============================] - 25s 512ms/step - loss: 0.1217 - acc: 0.9611 - val_loss: 1.7176 - val_acc: 0.8322\n",
      "Epoch 91/100\n",
      "49/49 [==============================] - 25s 520ms/step - loss: 0.1016 - acc: 0.9643 - val_loss: 2.4102 - val_acc: 0.7735\n",
      "Epoch 92/100\n",
      "49/49 [==============================] - 26s 529ms/step - loss: 0.1379 - acc: 0.9541 - val_loss: 1.6279 - val_acc: 0.8523\n",
      "Epoch 93/100\n",
      "49/49 [==============================] - 25s 519ms/step - loss: 0.1280 - acc: 0.9560 - val_loss: 1.3039 - val_acc: 0.8557\n",
      "Epoch 94/100\n",
      "49/49 [==============================] - 26s 527ms/step - loss: 0.1442 - acc: 0.9490 - val_loss: 1.4607 - val_acc: 0.8430\n",
      "Epoch 95/100\n",
      "49/49 [==============================] - 26s 530ms/step - loss: 0.1248 - acc: 0.9624 - val_loss: 2.2626 - val_acc: 0.8037\n",
      "Epoch 96/100\n",
      "49/49 [==============================] - 25s 515ms/step - loss: 0.1361 - acc: 0.9571 - val_loss: 2.1108 - val_acc: 0.8054\n",
      "Epoch 97/100\n",
      "49/49 [==============================] - 25s 512ms/step - loss: 0.1191 - acc: 0.9611 - val_loss: 1.6881 - val_acc: 0.8238\n",
      "Epoch 98/100\n",
      "49/49 [==============================] - 26s 523ms/step - loss: 0.0951 - acc: 0.9675 - val_loss: 1.7988 - val_acc: 0.8272\n",
      "Epoch 99/100\n",
      "49/49 [==============================] - 25s 506ms/step - loss: 0.1085 - acc: 0.9694 - val_loss: 1.3202 - val_acc: 0.8540\n",
      "Epoch 100/100\n",
      "49/49 [==============================] - 25s 512ms/step - loss: 0.1052 - acc: 0.9673 - val_loss: 1.4560 - val_acc: 0.8608\n"
     ]
    },
    {
     "data": {
      "text/plain": [
       "<keras.callbacks.History at 0x2bdfa013c18>"
      ]
     },
     "execution_count": 13,
     "metadata": {},
     "output_type": "execute_result"
    }
   ],
   "source": [
    "model.fit_generator(x_train,steps_per_epoch=49,validation_data=x_test,validation_steps=20,epochs=100)"
   ]
  },
  {
   "cell_type": "code",
   "execution_count": 16,
   "metadata": {},
   "outputs": [],
   "source": [
    "model.save(\"qurat.h5\")"
   ]
  },
  {
   "cell_type": "code",
   "execution_count": null,
   "metadata": {},
   "outputs": [],
   "source": []
  }
 ],
 "metadata": {
  "kernelspec": {
   "display_name": "Python 3",
   "language": "python",
   "name": "python3"
  },
  "language_info": {
   "codemirror_mode": {
    "name": "ipython",
    "version": 3
   },
   "file_extension": ".py",
   "mimetype": "text/x-python",
   "name": "python",
   "nbconvert_exporter": "python",
   "pygments_lexer": "ipython3",
   "version": "3.7.3"
  }
 },
 "nbformat": 4,
 "nbformat_minor": 2
}
